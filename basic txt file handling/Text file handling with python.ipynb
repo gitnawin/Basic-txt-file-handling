{
 "cells": [
  {
   "cell_type": "code",
   "execution_count": 4,
   "id": "80bf1bcd-c4e0-475b-abb2-9879296f233c",
   "metadata": {},
   "outputs": [],
   "source": [
    "a = open('file handle.txt','r') #opneing a sample file in read mode"
   ]
  },
  {
   "cell_type": "code",
   "execution_count": 6,
   "id": "9c2af516-f792-4255-bc7c-cabd66ed36fe",
   "metadata": {},
   "outputs": [
    {
     "data": {
      "text/plain": [
       "'hi,my name is naveen'"
      ]
     },
     "execution_count": 6,
     "metadata": {},
     "output_type": "execute_result"
    }
   ],
   "source": [
    "a.read() #reading a file"
   ]
  },
  {
   "cell_type": "code",
   "execution_count": 8,
   "id": "d54e7213-1c45-4b24-8510-d4a3ea69aeea",
   "metadata": {},
   "outputs": [],
   "source": [
    "a.close() #closing a file"
   ]
  },
  {
   "cell_type": "code",
   "execution_count": 10,
   "id": "97234d93-74cf-4bd8-b526-642766c78ecf",
   "metadata": {},
   "outputs": [],
   "source": [
    "a = open('file handle.txt','w')  #opening in write mode"
   ]
  },
  {
   "cell_type": "code",
   "execution_count": 12,
   "id": "0b4df937-4cf8-468f-9980-14ce476c959f",
   "metadata": {},
   "outputs": [],
   "source": [
    "a.write(\"hi,my name is naveen.\") #writing in the txt file\n",
    "a.close()"
   ]
  },
  {
   "cell_type": "code",
   "execution_count": 14,
   "id": "5e031399-4da4-4e30-8715-391ee6354ea3",
   "metadata": {},
   "outputs": [
    {
     "data": {
      "text/plain": [
       "'hi,my name is naveen.'"
      ]
     },
     "execution_count": 14,
     "metadata": {},
     "output_type": "execute_result"
    }
   ],
   "source": [
    "a = open('file handle.txt','r')\n",
    "a.read()"
   ]
  },
  {
   "cell_type": "code",
   "execution_count": 16,
   "id": "a5379940-661f-4a61-bc51-3d74f8ffeb28",
   "metadata": {},
   "outputs": [],
   "source": [
    "a.close()"
   ]
  },
  {
   "cell_type": "code",
   "execution_count": null,
   "id": "e549c514-1574-47d9-95f6-9f328b4a9eb9",
   "metadata": {},
   "outputs": [],
   "source": []
  },
  {
   "cell_type": "markdown",
   "id": "b538e648-1f56-4808-b744-a5de192823f5",
   "metadata": {},
   "source": [
    "# Basic text preprossesing"
   ]
  },
  {
   "cell_type": "code",
   "execution_count": 103,
   "id": "8d818c26-4c55-4ef8-8abe-2b2852156c0a",
   "metadata": {},
   "outputs": [],
   "source": [
    "a = open('corona.txt','r') #opening a corona research file"
   ]
  },
  {
   "cell_type": "code",
   "execution_count": 105,
   "id": "240d0190-b5b1-413d-8ec0-e99f4af944b7",
   "metadata": {},
   "outputs": [],
   "source": [
    "txt = a.read()"
   ]
  },
  {
   "cell_type": "code",
   "execution_count": 107,
   "id": "003cd5d0-0e22-4571-9788-a63bafa95955",
   "metadata": {},
   "outputs": [],
   "source": [
    "a.close()"
   ]
  },
  {
   "cell_type": "code",
   "execution_count": 109,
   "id": "97fe3c26-7498-46c2-9622-19824330bcb6",
   "metadata": {},
   "outputs": [
    {
     "data": {
      "text/plain": [
       "\"Coronavirus disease 2019 (COVID-19) is a contagious disease caused by severe acute respiratory syndrome coronavirus 2 (SARS-CoV-2). The first known case was identified in Wuhan, China, in December 2019.[7] The disease has since spread worldwide, leading to an ongoing pandemic.[8]\\n\\nSymptoms of COVID-19 are variable, but often include fever,[9] cough, headache,[10] fatigue, breathing difficulties, and loss of smell and taste.[11][12][13] Symptoms may begin one to fourteen days after exposure to the virus. At least a third of people who are infected do not develop noticeable symptoms.[14] Of those people who develop symptoms noticeable enough to be classed as patients, most (81%) develop mild to moderate symptoms (up to mild pneumonia), while 14% develop severe symptoms (dyspnea, hypoxia, or more than 50% lung involvement on imaging), and 5% suffer critical symptoms (respiratory failure, shock, or multi-organ dysfunction).[15] Older people are at a higher risk of developing severe symptoms. Some people continue to experience a range of effects (long COVID) for months after recovery, and damage to organs has been observed.[16] Multi-year studies are underway to further investigate the long-term effects of the disease.[16]\\n\\nCOVID-19 transmits when people breathe in air contaminated by droplets and small airborne particles containing the virus. The risk of breathing these in is highest when people are in close proximity, but they can be inhaled over longer distances, particularly indoors. Transmission can also occur if splashed or sprayed with contaminated fluids in the eyes, nose or mouth, and, rarely, via contaminated surfaces. People remain contagious for up to 20 days, and can spread the virus even if they do not develop symptoms.[17][18]\\n\\nSeveral testing methods have been developed to diagnose the disease. The standard diagnostic method is by detection of the virus' nucleic acid by real-time reverse transcription polymerase chain reaction (rRT-PCR), transcription-mediated amplification (TMA), or by reverse transcription loop-mediated isothermal amplification (RT-LAMP) from a nasopharyngeal swab.\\n\\nPreventive measures include physical or social distancing, quarantining, ventilation of indoor spaces, covering coughs and sneezes, hand washing, and keeping unwashed hands away from the face. The use of face masks or coverings has been recommended in public settings to minimise the risk of transmissions.\\n\\nWhile work is underway to develop drugs that inhibit the virus (and several vaccines for it have been approved and distributed in various countries, which have since initiated mass vaccination campaigns), the primary treatment is symptomatic. Management involves the treatment of symptoms, supportive care, isolation, and experimental measures.\""
      ]
     },
     "execution_count": 109,
     "metadata": {},
     "output_type": "execute_result"
    }
   ],
   "source": [
    "txt"
   ]
  },
  {
   "cell_type": "code",
   "execution_count": 111,
   "id": "e07e20a8-3a22-42a8-a9e7-e05919b5cf97",
   "metadata": {},
   "outputs": [
    {
     "name": "stdout",
     "output_type": "stream",
     "text": [
      "Coronavirus disease 2019 (COVID-19) is a contagious disease caused by severe acute respiratory syndrome coronavirus 2 (SARS-CoV-2). The first known case was identified in Wuhan, China, in December 2019.[7] The disease has since spread worldwide, leading to an ongoing pandemic.[8]\n",
      "\n",
      "Symptoms of COVID-19 are variable, but often include fever,[9] cough, headache,[10] fatigue, breathing difficulties, and loss of smell and taste.[11][12][13] Symptoms may begin one to fourteen days after exposure to the virus. At least a third of people who are infected do not develop noticeable symptoms.[14] Of those people who develop symptoms noticeable enough to be classed as patients, most (81%) develop mild to moderate symptoms (up to mild pneumonia), while 14% develop severe symptoms (dyspnea, hypoxia, or more than 50% lung involvement on imaging), and 5% suffer critical symptoms (respiratory failure, shock, or multi-organ dysfunction).[15] Older people are at a higher risk of developing severe symptoms. Some people continue to experience a range of effects (long COVID) for months after recovery, and damage to organs has been observed.[16] Multi-year studies are underway to further investigate the long-term effects of the disease.[16]\n",
      "\n",
      "COVID-19 transmits when people breathe in air contaminated by droplets and small airborne particles containing the virus. The risk of breathing these in is highest when people are in close proximity, but they can be inhaled over longer distances, particularly indoors. Transmission can also occur if splashed or sprayed with contaminated fluids in the eyes, nose or mouth, and, rarely, via contaminated surfaces. People remain contagious for up to 20 days, and can spread the virus even if they do not develop symptoms.[17][18]\n",
      "\n",
      "Several testing methods have been developed to diagnose the disease. The standard diagnostic method is by detection of the virus' nucleic acid by real-time reverse transcription polymerase chain reaction (rRT-PCR), transcription-mediated amplification (TMA), or by reverse transcription loop-mediated isothermal amplification (RT-LAMP) from a nasopharyngeal swab.\n",
      "\n",
      "Preventive measures include physical or social distancing, quarantining, ventilation of indoor spaces, covering coughs and sneezes, hand washing, and keeping unwashed hands away from the face. The use of face masks or coverings has been recommended in public settings to minimise the risk of transmissions.\n",
      "\n",
      "While work is underway to develop drugs that inhibit the virus (and several vaccines for it have been approved and distributed in various countries, which have since initiated mass vaccination campaigns), the primary treatment is symptomatic. Management involves the treatment of symptoms, supportive care, isolation, and experimental measures.\n"
     ]
    }
   ],
   "source": [
    "print(txt) #using print fuction retains the written file format"
   ]
  },
  {
   "cell_type": "code",
   "execution_count": 114,
   "id": "eddd9fe6-d263-43bf-8bc7-9e3062b40d19",
   "metadata": {},
   "outputs": [
    {
     "name": "stdout",
     "output_type": "stream",
     "text": [
      "6\n"
     ]
    }
   ],
   "source": [
    "per = txt.split(\"\\n\\n\") #splitting text paragh wise\n",
    "print(len(per)) "
   ]
  },
  {
   "cell_type": "code",
   "execution_count": 116,
   "id": "3f527c82-bbd7-4275-8917-c27770f667e6",
   "metadata": {},
   "outputs": [
    {
     "data": {
      "text/plain": [
       "['Coronavirus disease 2019 (COVID-19) is a contagious disease caused by severe acute respiratory syndrome coronavirus 2 (SARS-CoV-2). The first known case was identified in Wuhan, China, in December 2019.[7] The disease has since spread worldwide, leading to an ongoing pandemic.[8]',\n",
       " 'Symptoms of COVID-19 are variable, but often include fever,[9] cough, headache,[10] fatigue, breathing difficulties, and loss of smell and taste.[11][12][13] Symptoms may begin one to fourteen days after exposure to the virus. At least a third of people who are infected do not develop noticeable symptoms.[14] Of those people who develop symptoms noticeable enough to be classed as patients, most (81%) develop mild to moderate symptoms (up to mild pneumonia), while 14% develop severe symptoms (dyspnea, hypoxia, or more than 50% lung involvement on imaging), and 5% suffer critical symptoms (respiratory failure, shock, or multi-organ dysfunction).[15] Older people are at a higher risk of developing severe symptoms. Some people continue to experience a range of effects (long COVID) for months after recovery, and damage to organs has been observed.[16] Multi-year studies are underway to further investigate the long-term effects of the disease.[16]',\n",
       " 'COVID-19 transmits when people breathe in air contaminated by droplets and small airborne particles containing the virus. The risk of breathing these in is highest when people are in close proximity, but they can be inhaled over longer distances, particularly indoors. Transmission can also occur if splashed or sprayed with contaminated fluids in the eyes, nose or mouth, and, rarely, via contaminated surfaces. People remain contagious for up to 20 days, and can spread the virus even if they do not develop symptoms.[17][18]',\n",
       " \"Several testing methods have been developed to diagnose the disease. The standard diagnostic method is by detection of the virus' nucleic acid by real-time reverse transcription polymerase chain reaction (rRT-PCR), transcription-mediated amplification (TMA), or by reverse transcription loop-mediated isothermal amplification (RT-LAMP) from a nasopharyngeal swab.\",\n",
       " 'Preventive measures include physical or social distancing, quarantining, ventilation of indoor spaces, covering coughs and sneezes, hand washing, and keeping unwashed hands away from the face. The use of face masks or coverings has been recommended in public settings to minimise the risk of transmissions.',\n",
       " 'While work is underway to develop drugs that inhibit the virus (and several vaccines for it have been approved and distributed in various countries, which have since initiated mass vaccination campaigns), the primary treatment is symptomatic. Management involves the treatment of symptoms, supportive care, isolation, and experimental measures.']"
      ]
     },
     "execution_count": 116,
     "metadata": {},
     "output_type": "execute_result"
    }
   ],
   "source": [
    "per"
   ]
  },
  {
   "cell_type": "code",
   "execution_count": 118,
   "id": "d273494d-ff35-47e5-8cac-b3d2286e30d4",
   "metadata": {},
   "outputs": [],
   "source": [
    "lines = txt.split(\".\") #splitting line wise"
   ]
  },
  {
   "cell_type": "code",
   "execution_count": 120,
   "id": "8203aa2a-2ab9-4742-8200-2cad761be51d",
   "metadata": {},
   "outputs": [
    {
     "data": {
      "text/plain": [
       "['Coronavirus disease 2019 (COVID-19) is a contagious disease caused by severe acute respiratory syndrome coronavirus 2 (SARS-CoV-2)',\n",
       " ' The first known case was identified in Wuhan, China, in December 2019',\n",
       " '[7] The disease has since spread worldwide, leading to an ongoing pandemic',\n",
       " '[8]\\n\\nSymptoms of COVID-19 are variable, but often include fever,[9] cough, headache,[10] fatigue, breathing difficulties, and loss of smell and taste',\n",
       " '[11][12][13] Symptoms may begin one to fourteen days after exposure to the virus',\n",
       " ' At least a third of people who are infected do not develop noticeable symptoms',\n",
       " '[14] Of those people who develop symptoms noticeable enough to be classed as patients, most (81%) develop mild to moderate symptoms (up to mild pneumonia), while 14% develop severe symptoms (dyspnea, hypoxia, or more than 50% lung involvement on imaging), and 5% suffer critical symptoms (respiratory failure, shock, or multi-organ dysfunction)',\n",
       " '[15] Older people are at a higher risk of developing severe symptoms',\n",
       " ' Some people continue to experience a range of effects (long COVID) for months after recovery, and damage to organs has been observed',\n",
       " '[16] Multi-year studies are underway to further investigate the long-term effects of the disease',\n",
       " '[16]\\n\\nCOVID-19 transmits when people breathe in air contaminated by droplets and small airborne particles containing the virus',\n",
       " ' The risk of breathing these in is highest when people are in close proximity, but they can be inhaled over longer distances, particularly indoors',\n",
       " ' Transmission can also occur if splashed or sprayed with contaminated fluids in the eyes, nose or mouth, and, rarely, via contaminated surfaces',\n",
       " ' People remain contagious for up to 20 days, and can spread the virus even if they do not develop symptoms',\n",
       " '[17][18]\\n\\nSeveral testing methods have been developed to diagnose the disease',\n",
       " \" The standard diagnostic method is by detection of the virus' nucleic acid by real-time reverse transcription polymerase chain reaction (rRT-PCR), transcription-mediated amplification (TMA), or by reverse transcription loop-mediated isothermal amplification (RT-LAMP) from a nasopharyngeal swab\",\n",
       " '\\n\\nPreventive measures include physical or social distancing, quarantining, ventilation of indoor spaces, covering coughs and sneezes, hand washing, and keeping unwashed hands away from the face',\n",
       " ' The use of face masks or coverings has been recommended in public settings to minimise the risk of transmissions',\n",
       " '\\n\\nWhile work is underway to develop drugs that inhibit the virus (and several vaccines for it have been approved and distributed in various countries, which have since initiated mass vaccination campaigns), the primary treatment is symptomatic',\n",
       " ' Management involves the treatment of symptoms, supportive care, isolation, and experimental measures',\n",
       " '']"
      ]
     },
     "execution_count": 120,
     "metadata": {},
     "output_type": "execute_result"
    }
   ],
   "source": [
    "lines"
   ]
  },
  {
   "cell_type": "code",
   "execution_count": 122,
   "id": "f5dd53e3-fc27-4926-b7ff-8ee04aa35b70",
   "metadata": {},
   "outputs": [],
   "source": [
    "txt = txt.replace(\"\\n\\n\",' ') #replavcing /n  with space"
   ]
  },
  {
   "cell_type": "code",
   "execution_count": 124,
   "id": "25f1fd8a-7792-4b45-815b-b2479ba23800",
   "metadata": {},
   "outputs": [
    {
     "data": {
      "text/plain": [
       "\"Coronavirus disease 2019 (COVID-19) is a contagious disease caused by severe acute respiratory syndrome coronavirus 2 (SARS-CoV-2). The first known case was identified in Wuhan, China, in December 2019.[7] The disease has since spread worldwide, leading to an ongoing pandemic.[8] Symptoms of COVID-19 are variable, but often include fever,[9] cough, headache,[10] fatigue, breathing difficulties, and loss of smell and taste.[11][12][13] Symptoms may begin one to fourteen days after exposure to the virus. At least a third of people who are infected do not develop noticeable symptoms.[14] Of those people who develop symptoms noticeable enough to be classed as patients, most (81%) develop mild to moderate symptoms (up to mild pneumonia), while 14% develop severe symptoms (dyspnea, hypoxia, or more than 50% lung involvement on imaging), and 5% suffer critical symptoms (respiratory failure, shock, or multi-organ dysfunction).[15] Older people are at a higher risk of developing severe symptoms. Some people continue to experience a range of effects (long COVID) for months after recovery, and damage to organs has been observed.[16] Multi-year studies are underway to further investigate the long-term effects of the disease.[16] COVID-19 transmits when people breathe in air contaminated by droplets and small airborne particles containing the virus. The risk of breathing these in is highest when people are in close proximity, but they can be inhaled over longer distances, particularly indoors. Transmission can also occur if splashed or sprayed with contaminated fluids in the eyes, nose or mouth, and, rarely, via contaminated surfaces. People remain contagious for up to 20 days, and can spread the virus even if they do not develop symptoms.[17][18] Several testing methods have been developed to diagnose the disease. The standard diagnostic method is by detection of the virus' nucleic acid by real-time reverse transcription polymerase chain reaction (rRT-PCR), transcription-mediated amplification (TMA), or by reverse transcription loop-mediated isothermal amplification (RT-LAMP) from a nasopharyngeal swab. Preventive measures include physical or social distancing, quarantining, ventilation of indoor spaces, covering coughs and sneezes, hand washing, and keeping unwashed hands away from the face. The use of face masks or coverings has been recommended in public settings to minimise the risk of transmissions. While work is underway to develop drugs that inhibit the virus (and several vaccines for it have been approved and distributed in various countries, which have since initiated mass vaccination campaigns), the primary treatment is symptomatic. Management involves the treatment of symptoms, supportive care, isolation, and experimental measures.\""
      ]
     },
     "execution_count": 124,
     "metadata": {},
     "output_type": "execute_result"
    }
   ],
   "source": [
    "txt"
   ]
  },
  {
   "cell_type": "code",
   "execution_count": null,
   "id": "905c1d69-17f9-4d2e-9545-494d340ae5c6",
   "metadata": {},
   "outputs": [],
   "source": []
  }
 ],
 "metadata": {
  "kernelspec": {
   "display_name": "Python [conda env:base] *",
   "language": "python",
   "name": "conda-base-py"
  },
  "language_info": {
   "codemirror_mode": {
    "name": "ipython",
    "version": 3
   },
   "file_extension": ".py",
   "mimetype": "text/x-python",
   "name": "python",
   "nbconvert_exporter": "python",
   "pygments_lexer": "ipython3",
   "version": "3.12.7"
  }
 },
 "nbformat": 4,
 "nbformat_minor": 5
}
